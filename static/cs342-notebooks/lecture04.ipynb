{
 "cells": [
  {
   "cell_type": "code",
   "execution_count": null,
   "id": "eb8bd16a-e789-4021-ba60-ecedef0fcbef",
   "metadata": {
    "slideshow": {
     "slide_type": "slide"
    }
   },
   "outputs": [],
   "source": [
    "%pylab inline\n",
    "import torch\n",
    "from torch.nn.parameter import Parameter"
   ]
  },
  {
   "cell_type": "code",
   "execution_count": null,
   "id": "d0e4b243-fb83-4ede-9a99-c7ec0f642eb4",
   "metadata": {},
   "outputs": [],
   "source": [
    "x = torch.rand((1000, 2))\n",
    "x_in_circle = (x**2).sum(axis=1) < 1\n",
    "scatter(*x.numpy().T, c=x_in_circle.numpy())\n",
    "axis('equal')"
   ]
  },
  {
   "cell_type": "code",
   "execution_count": null,
   "id": "072a9dcb-1e2d-44d7-b508-6f656dc30f52",
   "metadata": {},
   "outputs": [],
   "source": [
    "class Linear(torch.nn.Module):\n",
    "    # This module is just for demonstration purposes - use torch.nn.Linear instead.\n",
    "    def __init__(self, input_dim, output_dim):\n",
    "        super().__init__()\n",
    "        self.w = Parameter(torch.rand((output_dim, input_dim)))\n",
    "        self.b = Parameter(torch.zeros(output_dim))\n",
    "        \n",
    "    def forward(self, x):\n",
    "        # return W x + b\n",
    "        return torch.matmul(self.w, x[:,:,None]).squeeze(dim=2) + self.b\n",
    "    \n",
    "class LinearClassifier(torch.nn.Module):\n",
    "    def __init__(self, input_dim, classes):\n",
    "        super().__init__()\n",
    "        self.linear = Linear(input_dim, classes)\n",
    "        # This is a hack for demonstration purposes. Do not manually change the\n",
    "        # internals of submodules in your code.\n",
    "        self.linear.w = Parameter(torch.as_tensor([[1, 1], [-1, -1]], dtype=torch.float))\n",
    "        self.linear.b = Parameter(torch.as_tensor([-1.2, 1.2], dtype=torch.float))\n",
    "        \n",
    "    def forward(self, x):\n",
    "        logits = self.linear(x)\n",
    "        return logits.exp() / logits.exp().sum(axis=1)[:,None]\n",
    "    \n",
    "classifier = LinearClassifier(2, 2)\n",
    "predictions = classifier(x).argmax(dim=1)\n",
    "\n",
    "scatter(*x.numpy().T, c=predictions.numpy())\n",
    "axis('equal')"
   ]
  },
  {
   "cell_type": "code",
   "execution_count": null,
   "id": "e96c7db9-4600-4378-90a8-ff79f88ecef4",
   "metadata": {},
   "outputs": [],
   "source": []
  }
 ],
 "metadata": {
  "celltoolbar": "Slideshow",
  "kernelspec": {
   "display_name": "Python 3",
   "language": "python",
   "name": "python3"
  },
  "language_info": {
   "codemirror_mode": {
    "name": "ipython",
    "version": 3
   },
   "file_extension": ".py",
   "mimetype": "text/x-python",
   "name": "python",
   "nbconvert_exporter": "python",
   "pygments_lexer": "ipython3",
   "version": "3.6.9"
  }
 },
 "nbformat": 4,
 "nbformat_minor": 5
}
