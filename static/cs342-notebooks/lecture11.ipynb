{
 "cells": [
  {
   "cell_type": "code",
   "execution_count": 1,
   "id": "678e5656-d6d1-49ce-b3b7-c08e3724637d",
   "metadata": {},
   "outputs": [],
   "source": [
    "import torch\n",
    "import numpy as np"
   ]
  },
  {
   "cell_type": "code",
   "execution_count": 2,
   "id": "40f74ddb-1511-4a41-99eb-4a0a945d0c1b",
   "metadata": {},
   "outputs": [],
   "source": [
    "class ConvNet(torch.nn.Module):\n",
    "    class Block(torch.nn.Module):\n",
    "        def __init__(self, in_channels, out_channels, stride):\n",
    "            super().__init__()\n",
    "            self.net = torch.nn.Sequential(\n",
    "                torch.nn.Conv2d(in_channels, in_channels, 3, padding='same'),\n",
    "                torch.nn.ReLU(),\n",
    "                torch.nn.Conv2d(in_channels, out_channels, 3, stride=stride, padding=1),\n",
    "                torch.nn.ReLU()\n",
    "            )\n",
    "            \n",
    "            # Use Xavier initialization for the weights\n",
    "            torch.nn.init.xavier_normal_(self.net[0].weight, gain=np.sqrt(2))\n",
    "            torch.nn.init.xavier_normal_(self.net[2].weight, gain=np.sqrt(2))\n",
    "            # Use a constant initializer for the bias term.\n",
    "            # Typically you would not do this.\n",
    "            torch.nn.init.constant_(self.net[0].bias, 0.1)\n",
    "            torch.nn.init.constant_(self.net[2].bias, 0.1)\n",
    "            # If you want to try Kaiming normalization, you can do it like this:\n",
    "            # torch.nn.init.kaiming_normal_(self.net[0].weights, mode='fan_in', nonlinearity='relu')\n",
    "            # This version keeps the activation magnitudes constant.\n",
    "            # If you want to keep gradient magnitudes constant:\n",
    "            # torch.nn.init.kaiming_normal_(self.net[0].weights, mode='fan_out', nonlinearity='relu')\n",
    "            \n",
    "        def forward(self, x):\n",
    "            return self.net(x)\n",
    "        \n",
    "    def __init__(self, input_channels=3, channels=[16, 32, 64], output_classes=3):\n",
    "        super().__init__()\n",
    "        layers = [\n",
    "            torch.nn.Conv2d(input_channels, channels[0], 7, padding=3, stride=2),\n",
    "            torch.nn.ReLU()\n",
    "        ]\n",
    "        for i in range(len(channels) - 1):\n",
    "            layers.append(self.Block(channels[i], channels[i+1], stride=2))\n",
    "        self.net = torch.nn.Sequential(*layers)\n",
    "        self.classifier = torch.nn.Linear(channels[-1], output_classes)\n",
    "        \n",
    "        # Here we use zeros in the last layer\n",
    "        torch.nn.init.zeros_(self.classifier.weight)\n",
    "        torch.nn.init.xavier_normal_(self.net[0].weight, np.sqrt(2))\n",
    "        # Again, you normally would not change the bias initialization\n",
    "        torch.nn.init.constant_(self.net[0].bias, 0.1)\n",
    "        \n",
    "    def forward(self, x):\n",
    "        x = self.net(x)\n",
    "        x = x.mean(dim=(2, 3))\n",
    "        return self.classifier(x)"
   ]
  },
  {
   "cell_type": "code",
   "execution_count": null,
   "id": "2380e266-d3c1-4e0f-934a-49ec78f671fa",
   "metadata": {},
   "outputs": [],
   "source": [
    "net = ConvNet()\n",
    "print(net.net[0].weight)"
   ]
  },
  {
   "cell_type": "code",
   "execution_count": null,
   "id": "c1568e9f-2c3a-452c-b3fd-88ca36f967eb",
   "metadata": {},
   "outputs": [],
   "source": [
    "print(net.net[0].bias)"
   ]
  },
  {
   "cell_type": "code",
   "execution_count": null,
   "id": "24662797-17f6-4759-8351-935b863982fa",
   "metadata": {},
   "outputs": [],
   "source": [
    "print(net.classifier.weight)"
   ]
  },
  {
   "cell_type": "code",
   "execution_count": null,
   "id": "465260dc-767d-4703-8850-74e8e496f5a9",
   "metadata": {},
   "outputs": [],
   "source": []
  }
 ],
 "metadata": {
  "kernelspec": {
   "display_name": "Python 3",
   "language": "python",
   "name": "python3"
  },
  "language_info": {
   "codemirror_mode": {
    "name": "ipython",
    "version": 3
   },
   "file_extension": ".py",
   "mimetype": "text/x-python",
   "name": "python",
   "nbconvert_exporter": "python",
   "pygments_lexer": "ipython3",
   "version": "3.6.9"
  }
 },
 "nbformat": 4,
 "nbformat_minor": 5
}
