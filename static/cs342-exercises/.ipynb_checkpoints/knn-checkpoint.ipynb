{
 "cells": [
  {
   "cell_type": "markdown",
   "metadata": {
    "id": "3mSJr9vn5s2v"
   },
   "source": [
    "## Coding 2: K Nearest Neighbors\n",
    "\n",
    "\n",
    "\n",
    "<img src=\"https://upload.wikimedia.org/wikipedia/commons/thumb/e/e7/KnnClassification.svg/220px-KnnClassification.svg.png\" alt=\"KNN-Example\" style=\"width: 320px;\" align=\"right\"/>The k-nearest neighbors algorithm ([KNN](https://en.wikipedia.org/wiki/K-nearest_neighbors_algorithm)) is a non-parametric method.\n",
    "\n",
    "KNN relies on the observation that (in an appropriate embedding space) similar images exist in proximity. A new test image is classified by simply looking at nearby train images and aggregating the evidence.\n",
    "\n",
    "<img src=\"https://miro.medium.com/max/700/1*syyml8q8s1Yt-iEea5m1Ag.png\" alt=\"CIFAR-10-Samples\" width=\"50%\" align=\"left\"/>\n",
    "\n",
    "The number of neighbors used for prediction may lead to varying outcomes. For example, the green circle (left image) may be classified either as a red triangle based on 3-nearest-neighbors or as a blue square based on the 5-nearest-neighbors.\n",
    "\n",
    "In this exercise, we will apply KNN to classify the [CIFAR-10](https://www.cs.toronto.edu/~kriz/cifar.html) dataset (see left image). CIFAR-10 consists of 32x32 images from 10 classes. The train set consists of 50k images and the test set consists of 10k images. The following is are sample images from each class:\n"
   ]
  },
  {
   "cell_type": "markdown",
   "metadata": {
    "id": "IFPhqWMg5s23"
   },
   "source": [
    "### Function to load CIFAR-10.\n",
    "\n",
    "**You do not need to fully understand this**. (Might help for later homeworks though)\n",
    "\n",
    "`torchvision.datasets.CIFAR10` is a `Dataset` object, where `data[i]` gives you a single sample.\n",
    "`torch.utils.data.DataLoader` wraps a dataset, and makes it fast (`num_workers`) as well as providing other useful features such as shuffling and batching."
   ]
  },
  {
   "cell_type": "code",
   "execution_count": null,
   "metadata": {
    "id": "v4Pm9Nyd5s23"
   },
   "outputs": [],
   "source": [
    "import torch\n",
    "import torchvision\n",
    "import torchvision.transforms as transforms\n",
    "\n",
    "def fetch_dataloader(transform=None, batch_size=-1, is_train=True):\n",
    "    \"\"\"\n",
    "    Loads data from disk and returns a data_loader.\n",
    "    A DataLoader is similar to a list of (image, label) tuples.\n",
    "    You do not need to fully understand this code to do this assignment, we're happy to explain though.\n",
    "    \"\"\"\n",
    "    data = torchvision.datasets.CIFAR10(root='./data', train=is_train, download=True, transform=transform)\n",
    "    batch = len(data) if batch_size is -1 else batch_size\n",
    "    loader = torch.utils.data.DataLoader(data, batch_size=batch, shuffle=True, num_workers=4)\n",
    "      \n",
    "    return loader"
   ]
  },
  {
   "cell_type": "markdown",
   "metadata": {
    "id": "5f7mJTBn5s27"
   },
   "source": [
    "### Fetch and preprocess data.\n",
    "\n",
    "**You do not need to fully understand this.** What the code below does is load the training data into `x_train` of the size $N \\times 3 \\times 32 \\times 32$ with $N$ labels `y_train` in $0 \\ldots 9$."
   ]
  },
  {
   "cell_type": "code",
   "execution_count": null,
   "metadata": {
    "colab": {
     "base_uri": "https://localhost:8080/",
     "height": 155,
     "referenced_widgets": [
      "dfeff3932d98478188f7b659133acb57",
      "0bc25cef56784fc5b7420cfeb79cfedf",
      "a73c565db47345eab8a592599001689e",
      "e89591a7ea19450f869e7aabd5ca1787",
      "2d7e26c4360247a3a16f48fed0720420",
      "80563e7d5945436989f5e235ac1677f8",
      "b9d2163093ab4c6987bea25c2b3dd105",
      "f6be8c391081432aada3b8745dbbcc7d",
      "774e03e0d2474191add3ae0ca8c82213",
      "c017358e95bd48ee9f365488e4a07053",
      "6f8fa37424104cbc87b68af19d509315"
     ]
    },
    "id": "JCXRAxXJ5s28",
    "outputId": "47fffd0c-5bc4-4478-d403-2ca93c8a07f6"
   },
   "outputs": [],
   "source": [
    "classes = ['plane', 'car', 'bird', 'cat', 'deer', 'dog', 'frog', 'horse', 'ship', 'truck']\n",
    "\n",
    "# -1 Batch size will give the entire dataset as one batch.\n",
    "transform = transforms.Compose([transforms.ToTensor(), transforms.Normalize((0.5, 0.5, 0.5), (0.5, 0.5, 0.5))])\n",
    "loader_train = fetch_dataloader(transform, batch_size=-1, is_train=True)\n",
    "x_train, y_train = iter(loader_train).next()\n",
    "\n",
    "print(x_train.shape, y_train.shape)"
   ]
  },
  {
   "cell_type": "markdown",
   "metadata": {
    "id": "8gZT0ilb5s2_"
   },
   "source": [
    "### Implementing KNN\n",
    "\n",
    "Implement the `train` and `predict` functions here.\n",
    "\n",
    "### Hints:\n",
    "\n",
    "It is a good idea to represent the images, which are (3, 32, 32) tensors,  \n",
    "as vectors of size 32768 = (3 * 32 * 32).\n",
    "\n",
    "`torch.reshape` will be helpful in doing this."
   ]
  },
  {
   "cell_type": "code",
   "execution_count": null,
   "metadata": {
    "colab": {
     "base_uri": "https://localhost:8080/"
    },
    "id": "nqN00sIy5s3A",
    "outputId": "3bbdd60a-cf09-4ab0-e43a-eadd4d4d9f4a"
   },
   "outputs": [],
   "source": [
    "class KNearestNeighborClassifier:\n",
    "    def __init__(self, k):\n",
    "        self.k = k\n",
    "\n",
    "    def train(self, x_train, y_train):\n",
    "        \"\"\"\n",
    "        Args:\n",
    "            x_train: (n, 3, 32, 32) tensor of training images\n",
    "            y_train: (n) long tensor of training labels\n",
    "\n",
    "        Implement this function to \"train\" your knn classifier.\n",
    "\n",
    "        Hint: no computation is involved\n",
    "        \"\"\"\n",
    "        pass \n",
    "\n",
    "    def predict(self, image):\n",
    "        \"\"\"\n",
    "        Args:\n",
    "            image: (3, 32, 32) tensor\n",
    "            \n",
    "        Returns:\n",
    "            (int) class label\n",
    "\n",
    "        Implement this function.\n",
    "\n",
    "        Compute distances between a test image and all train samples.\n",
    "        Predict the label by voting on K nearest train samples.\n",
    "\n",
    "        torch.topk might be useful.\n",
    "        \"\"\"\n",
    "        pass\n",
    "\n",
    "\n",
    "K = 5\n",
    "\n",
    "# Use a subset of the dataset for practicing implementation.\n",
    "model = KNearestNeighborClassifier(k=K)\n",
    "model.train(x_train, y_train)\n",
    "\n",
    "# Uncomment when you're ready to train on the full dataset. \n",
    "# model.train(x_train, y_train)\n",
    "\n",
    "# Test out your model on a couple samples.\n",
    "for sample_idx in range(10):\n",
    "    pred = model.predict(x_train[sample_idx])\n",
    "    label = y_train[sample_idx]\n",
    "\n",
    "    print(int(pred), int(label))\n",
    "    # break"
   ]
  },
  {
   "cell_type": "markdown",
   "metadata": {
    "id": "lHFpsfAj5s3L"
   },
   "source": [
    "### Evaluate on test data.\n",
    "\n",
    "Play around with the hyperparameter `k` to see how it affects your accuracy."
   ]
  },
  {
   "cell_type": "code",
   "execution_count": null,
   "metadata": {
    "colab": {
     "base_uri": "https://localhost:8080/"
    },
    "id": "PCWfwq-a5s3L",
    "outputId": "bbe13a3b-39d3-48e1-ba00-691a9a6dbde2",
    "scrolled": true
   },
   "outputs": [],
   "source": [
    "def get_predictions(model, x):\n",
    "    \"\"\"\n",
    "    No need to change this\n",
    "    \"\"\"\n",
    "    return torch.FloatTensor([model.predict(x_i) for x_i in x])\n",
    "\n",
    "\n",
    "def compute_accuracy(y_pred, y_test):\n",
    "    \"\"\"\n",
    "    Args:\n",
    "        model: a trained KNN model\n",
    "        x_pred: (10000) tensor of test predictions\n",
    "        y_test: (10000) tensor of test labels\n",
    "\n",
    "    Returns:\n",
    "        (python float) representing the accuracy across the test set.\n",
    "\n",
    "    Compute predictions on all test samples and report accuracy.\n",
    "    \"\"\"\n",
    "    return (y_pred == y_test).float().mean()\n",
    "\n",
    "\n",
    "loader_test = fetch_dataloader(transform, -1, is_train=False)\n",
    "x_test, y_test = iter(loader_test).next()\n",
    "\n",
    "print(x_test.shape, y_test.shape)\n",
    "\n",
    "y_pred = get_predictions(model, x_test)\n",
    "accuracy = compute_accuracy(y_pred, y_test)\n",
    "\n",
    "print(accuracy)"
   ]
  },
  {
   "cell_type": "markdown",
   "metadata": {
    "id": "bJ_v-LnI5s3N"
   },
   "source": [
    "### References\n",
    "KNN visual example is modeled after the [KNN Wikipedia article](https://en.wikipedia.org/wiki/K-nearest_neighbors_algorithm).\n",
    "\n",
    "CIFAR10 data montage is borrowed from the CIFAR10 [homepage](https://www.cs.toronto.edu/~kriz/cifar.html).\n",
    "\n",
    "Dataloader and visualizer borrowed from the [PyTorch Tutorials](https://pytorch.org/tutorials/beginner/blitz/cifar10_tutorial.html)."
   ]
  }
 ],
 "metadata": {
  "accelerator": "GPU",
  "colab": {
   "collapsed_sections": [],
   "name": "coding_02.ipynb",
   "provenance": []
  },
  "kernelspec": {
   "display_name": "Python 3",
   "language": "python",
   "name": "python3"
  },
  "language_info": {
   "codemirror_mode": {
    "name": "ipython",
    "version": 3
   },
   "file_extension": ".py",
   "mimetype": "text/x-python",
   "name": "python",
   "nbconvert_exporter": "python",
   "pygments_lexer": "ipython3",
   "version": "3.6.9"
  },
  "widgets": {
   "application/vnd.jupyter.widget-state+json": {
    "0bc25cef56784fc5b7420cfeb79cfedf": {
     "model_module": "@jupyter-widgets/base",
     "model_module_version": "1.2.0",
     "model_name": "LayoutModel",
     "state": {
      "_model_module": "@jupyter-widgets/base",
      "_model_module_version": "1.2.0",
      "_model_name": "LayoutModel",
      "_view_count": null,
      "_view_module": "@jupyter-widgets/base",
      "_view_module_version": "1.2.0",
      "_view_name": "LayoutView",
      "align_content": null,
      "align_items": null,
      "align_self": null,
      "border": null,
      "bottom": null,
      "display": null,
      "flex": null,
      "flex_flow": null,
      "grid_area": null,
      "grid_auto_columns": null,
      "grid_auto_flow": null,
      "grid_auto_rows": null,
      "grid_column": null,
      "grid_gap": null,
      "grid_row": null,
      "grid_template_areas": null,
      "grid_template_columns": null,
      "grid_template_rows": null,
      "height": null,
      "justify_content": null,
      "justify_items": null,
      "left": null,
      "margin": null,
      "max_height": null,
      "max_width": null,
      "min_height": null,
      "min_width": null,
      "object_fit": null,
      "object_position": null,
      "order": null,
      "overflow": null,
      "overflow_x": null,
      "overflow_y": null,
      "padding": null,
      "right": null,
      "top": null,
      "visibility": null,
      "width": null
     }
    },
    "2d7e26c4360247a3a16f48fed0720420": {
     "model_module": "@jupyter-widgets/controls",
     "model_module_version": "1.5.0",
     "model_name": "HTMLModel",
     "state": {
      "_dom_classes": [],
      "_model_module": "@jupyter-widgets/controls",
      "_model_module_version": "1.5.0",
      "_model_name": "HTMLModel",
      "_view_count": null,
      "_view_module": "@jupyter-widgets/controls",
      "_view_module_version": "1.5.0",
      "_view_name": "HTMLView",
      "description": "",
      "description_tooltip": null,
      "layout": "IPY_MODEL_6f8fa37424104cbc87b68af19d509315",
      "placeholder": "​",
      "style": "IPY_MODEL_c017358e95bd48ee9f365488e4a07053",
      "value": " 170499072/? [00:06&lt;00:00, 30827386.68it/s]"
     }
    },
    "6f8fa37424104cbc87b68af19d509315": {
     "model_module": "@jupyter-widgets/base",
     "model_module_version": "1.2.0",
     "model_name": "LayoutModel",
     "state": {
      "_model_module": "@jupyter-widgets/base",
      "_model_module_version": "1.2.0",
      "_model_name": "LayoutModel",
      "_view_count": null,
      "_view_module": "@jupyter-widgets/base",
      "_view_module_version": "1.2.0",
      "_view_name": "LayoutView",
      "align_content": null,
      "align_items": null,
      "align_self": null,
      "border": null,
      "bottom": null,
      "display": null,
      "flex": null,
      "flex_flow": null,
      "grid_area": null,
      "grid_auto_columns": null,
      "grid_auto_flow": null,
      "grid_auto_rows": null,
      "grid_column": null,
      "grid_gap": null,
      "grid_row": null,
      "grid_template_areas": null,
      "grid_template_columns": null,
      "grid_template_rows": null,
      "height": null,
      "justify_content": null,
      "justify_items": null,
      "left": null,
      "margin": null,
      "max_height": null,
      "max_width": null,
      "min_height": null,
      "min_width": null,
      "object_fit": null,
      "object_position": null,
      "order": null,
      "overflow": null,
      "overflow_x": null,
      "overflow_y": null,
      "padding": null,
      "right": null,
      "top": null,
      "visibility": null,
      "width": null
     }
    },
    "774e03e0d2474191add3ae0ca8c82213": {
     "model_module": "@jupyter-widgets/base",
     "model_module_version": "1.2.0",
     "model_name": "LayoutModel",
     "state": {
      "_model_module": "@jupyter-widgets/base",
      "_model_module_version": "1.2.0",
      "_model_name": "LayoutModel",
      "_view_count": null,
      "_view_module": "@jupyter-widgets/base",
      "_view_module_version": "1.2.0",
      "_view_name": "LayoutView",
      "align_content": null,
      "align_items": null,
      "align_self": null,
      "border": null,
      "bottom": null,
      "display": null,
      "flex": null,
      "flex_flow": null,
      "grid_area": null,
      "grid_auto_columns": null,
      "grid_auto_flow": null,
      "grid_auto_rows": null,
      "grid_column": null,
      "grid_gap": null,
      "grid_row": null,
      "grid_template_areas": null,
      "grid_template_columns": null,
      "grid_template_rows": null,
      "height": null,
      "justify_content": null,
      "justify_items": null,
      "left": null,
      "margin": null,
      "max_height": null,
      "max_width": null,
      "min_height": null,
      "min_width": null,
      "object_fit": null,
      "object_position": null,
      "order": null,
      "overflow": null,
      "overflow_x": null,
      "overflow_y": null,
      "padding": null,
      "right": null,
      "top": null,
      "visibility": null,
      "width": null
     }
    },
    "80563e7d5945436989f5e235ac1677f8": {
     "model_module": "@jupyter-widgets/controls",
     "model_module_version": "1.5.0",
     "model_name": "DescriptionStyleModel",
     "state": {
      "_model_module": "@jupyter-widgets/controls",
      "_model_module_version": "1.5.0",
      "_model_name": "DescriptionStyleModel",
      "_view_count": null,
      "_view_module": "@jupyter-widgets/base",
      "_view_module_version": "1.2.0",
      "_view_name": "StyleView",
      "description_width": ""
     }
    },
    "a73c565db47345eab8a592599001689e": {
     "model_module": "@jupyter-widgets/controls",
     "model_module_version": "1.5.0",
     "model_name": "HTMLModel",
     "state": {
      "_dom_classes": [],
      "_model_module": "@jupyter-widgets/controls",
      "_model_module_version": "1.5.0",
      "_model_name": "HTMLModel",
      "_view_count": null,
      "_view_module": "@jupyter-widgets/controls",
      "_view_module_version": "1.5.0",
      "_view_name": "HTMLView",
      "description": "",
      "description_tooltip": null,
      "layout": "IPY_MODEL_b9d2163093ab4c6987bea25c2b3dd105",
      "placeholder": "​",
      "style": "IPY_MODEL_80563e7d5945436989f5e235ac1677f8",
      "value": ""
     }
    },
    "b9d2163093ab4c6987bea25c2b3dd105": {
     "model_module": "@jupyter-widgets/base",
     "model_module_version": "1.2.0",
     "model_name": "LayoutModel",
     "state": {
      "_model_module": "@jupyter-widgets/base",
      "_model_module_version": "1.2.0",
      "_model_name": "LayoutModel",
      "_view_count": null,
      "_view_module": "@jupyter-widgets/base",
      "_view_module_version": "1.2.0",
      "_view_name": "LayoutView",
      "align_content": null,
      "align_items": null,
      "align_self": null,
      "border": null,
      "bottom": null,
      "display": null,
      "flex": null,
      "flex_flow": null,
      "grid_area": null,
      "grid_auto_columns": null,
      "grid_auto_flow": null,
      "grid_auto_rows": null,
      "grid_column": null,
      "grid_gap": null,
      "grid_row": null,
      "grid_template_areas": null,
      "grid_template_columns": null,
      "grid_template_rows": null,
      "height": null,
      "justify_content": null,
      "justify_items": null,
      "left": null,
      "margin": null,
      "max_height": null,
      "max_width": null,
      "min_height": null,
      "min_width": null,
      "object_fit": null,
      "object_position": null,
      "order": null,
      "overflow": null,
      "overflow_x": null,
      "overflow_y": null,
      "padding": null,
      "right": null,
      "top": null,
      "visibility": null,
      "width": null
     }
    },
    "c017358e95bd48ee9f365488e4a07053": {
     "model_module": "@jupyter-widgets/controls",
     "model_module_version": "1.5.0",
     "model_name": "DescriptionStyleModel",
     "state": {
      "_model_module": "@jupyter-widgets/controls",
      "_model_module_version": "1.5.0",
      "_model_name": "DescriptionStyleModel",
      "_view_count": null,
      "_view_module": "@jupyter-widgets/base",
      "_view_module_version": "1.2.0",
      "_view_name": "StyleView",
      "description_width": ""
     }
    },
    "dfeff3932d98478188f7b659133acb57": {
     "model_module": "@jupyter-widgets/controls",
     "model_module_version": "1.5.0",
     "model_name": "HBoxModel",
     "state": {
      "_dom_classes": [],
      "_model_module": "@jupyter-widgets/controls",
      "_model_module_version": "1.5.0",
      "_model_name": "HBoxModel",
      "_view_count": null,
      "_view_module": "@jupyter-widgets/controls",
      "_view_module_version": "1.5.0",
      "_view_name": "HBoxView",
      "box_style": "",
      "children": [
       "IPY_MODEL_a73c565db47345eab8a592599001689e",
       "IPY_MODEL_e89591a7ea19450f869e7aabd5ca1787",
       "IPY_MODEL_2d7e26c4360247a3a16f48fed0720420"
      ],
      "layout": "IPY_MODEL_0bc25cef56784fc5b7420cfeb79cfedf"
     }
    },
    "e89591a7ea19450f869e7aabd5ca1787": {
     "model_module": "@jupyter-widgets/controls",
     "model_module_version": "1.5.0",
     "model_name": "FloatProgressModel",
     "state": {
      "_dom_classes": [],
      "_model_module": "@jupyter-widgets/controls",
      "_model_module_version": "1.5.0",
      "_model_name": "FloatProgressModel",
      "_view_count": null,
      "_view_module": "@jupyter-widgets/controls",
      "_view_module_version": "1.5.0",
      "_view_name": "ProgressView",
      "bar_style": "success",
      "description": "",
      "description_tooltip": null,
      "layout": "IPY_MODEL_774e03e0d2474191add3ae0ca8c82213",
      "max": 170498071,
      "min": 0,
      "orientation": "horizontal",
      "style": "IPY_MODEL_f6be8c391081432aada3b8745dbbcc7d",
      "value": 170498071
     }
    },
    "f6be8c391081432aada3b8745dbbcc7d": {
     "model_module": "@jupyter-widgets/controls",
     "model_module_version": "1.5.0",
     "model_name": "ProgressStyleModel",
     "state": {
      "_model_module": "@jupyter-widgets/controls",
      "_model_module_version": "1.5.0",
      "_model_name": "ProgressStyleModel",
      "_view_count": null,
      "_view_module": "@jupyter-widgets/base",
      "_view_module_version": "1.2.0",
      "_view_name": "StyleView",
      "bar_color": null,
      "description_width": ""
     }
    }
   }
  }
 },
 "nbformat": 4,
 "nbformat_minor": 4
}
