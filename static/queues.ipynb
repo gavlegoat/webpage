{
 "cells": [
  {
   "cell_type": "markdown",
   "id": "28399fa0-7fb2-4b13-adfd-3aca02de3626",
   "metadata": {},
   "source": [
    "# Queues"
   ]
  },
  {
   "cell_type": "markdown",
   "id": "53ad6586-955b-4466-b3b7-8353fb7380c7",
   "metadata": {},
   "source": [
    "## Preliminaries"
   ]
  },
  {
   "cell_type": "markdown",
   "id": "6ca5919e-9d70-4125-9172-2728cf34ea89",
   "metadata": {},
   "source": [
    "The cell below has an implementation of a queue in Python. You don't need to worry about the details here, we just need an implementation to work with in the following exercises. This cell also includes some imports which are needed later on in the notebook. Make sure to run this cell before moving on."
   ]
  },
  {
   "cell_type": "code",
   "execution_count": null,
   "id": "6ee6e0fe-2295-435c-bf37-ca127ecdfc1a",
   "metadata": {
    "tags": []
   },
   "outputs": [],
   "source": [
    "import random\n",
    "import sys\n",
    "from io import StringIO\n",
    "\n",
    "class Queue(object):\n",
    "    \n",
    "    # Create a new, empty queue\n",
    "    def __init__(self):\n",
    "        self._queue = []\n",
    "        \n",
    "    # Add a new element to the back of the queue\n",
    "    def enq(self, x):\n",
    "        self._queue.append(x)\n",
    "        \n",
    "    # Remove and return the front element of the queue\n",
    "    def deq(self):\n",
    "        return self._queue.pop(0)\n",
    "    \n",
    "    # Determine whether the queue is empty\n",
    "    def is_empty(self):\n",
    "        return len(self._queue) == 0\n",
    "    \n",
    "    # Return a string representation of the queue\n",
    "    def __str__(self):\n",
    "        return str(self._queue)"
   ]
  },
  {
   "cell_type": "markdown",
   "id": "5abcfa4d-6bee-484a-8259-019ee2d69c96",
   "metadata": {},
   "source": [
    "Here are a few simple examples of how to use the queue class above:"
   ]
  },
  {
   "cell_type": "code",
   "execution_count": null,
   "id": "e68aad67-54bb-4c75-a160-3900b9799f53",
   "metadata": {},
   "outputs": [],
   "source": [
    "a = Queue()     # Create a new queue\n",
    "a.enq(1)        # Add a new element to the queue\n",
    "a.enq(4)        # Add another element\n",
    "head = a.deq()  # Remove and return the first element from the queue\n",
    "a.enq(2)        # Add another element\n",
    "print(head)\n",
    "print(a)\n",
    "print(a.is_empty())\n",
    "a.deq()\n",
    "a.deq()\n",
    "print(a.is_empty())"
   ]
  },
  {
   "cell_type": "markdown",
   "id": "b90db729-a92b-4239-bd69-0c994b4738af",
   "metadata": {},
   "source": [
    "## Exercises\n",
    "\n",
    "Now we will look at a number of exercises to help you get comfortable working with queues. Each exercise includes some instructions and some starter code. Below the starter code is a test case along with the expected output which are meant to be useful for debugging. The next cell below the starter code runs randomized tests to check whether your solution works. These cells will throw an error if your code produces the wrong result.\n",
    "\n",
    "NOTE: There are too many exercises in this notebook! I do not expect you to finish everything in the time we have. Just work on what you have time for and don't worry about the rest."
   ]
  },
  {
   "cell_type": "markdown",
   "id": "8b0994cc-1787-4afe-b534-13e689a90eeb",
   "metadata": {},
   "source": [
    "### Sum\n",
    "\n",
    "Write a function which takes a queue as input and returns the sum of the elements of the queue."
   ]
  },
  {
   "cell_type": "code",
   "execution_count": null,
   "id": "42b0bcb1-35c5-4b96-8fc6-de748f5a0305",
   "metadata": {},
   "outputs": [],
   "source": [
    "def queue_sum(queue):\n",
    "    # TODO: Your code here\n",
    "    \n",
    "test = Queue()\n",
    "test.enq(2); test.enq(5); test.enq(3); test.enq(7); test.enq(6); test.enq(9); test.enq(1)\n",
    "print(queue_sum(test))    # Expected output: 33"
   ]
  },
  {
   "cell_type": "code",
   "execution_count": null,
   "id": "cb4d8ac8-169e-40ba-b92f-ef32c2c5caf4",
   "metadata": {},
   "outputs": [],
   "source": [
    "# Randomized tests\n",
    "for i in range(10):\n",
    "    test = Queue()\n",
    "    length = random.randint(10, 100)\n",
    "    test._queue = [random.randint(0, 5) for i in range(length)]\n",
    "    sum1 = sum(test._queue)\n",
    "    sum2 = queue_sum(test)\n",
    "    assert sum1 == sum2, f\"Expected {sum1}, got {sum2}\"\n",
    "print(\"It works!\")"
   ]
  },
  {
   "cell_type": "markdown",
   "id": "c0c14cba-dbfa-45d8-8b0d-35806baa8fcf",
   "metadata": {},
   "source": [
    "Most likely, your implementation of `queue_sum` removes all of the elements of the queue. Test this out by running the cell below. If the output is `True` then the queue is emptied by your implementation."
   ]
  },
  {
   "cell_type": "code",
   "execution_count": null,
   "id": "4d000368-e545-489a-804d-8c2869cd0a0b",
   "metadata": {},
   "outputs": [],
   "source": [
    "print(test.is_empty())"
   ]
  },
  {
   "cell_type": "markdown",
   "id": "332f2288-b593-4e81-9b2c-934eff368326",
   "metadata": {},
   "source": [
    "Now, we will write a function which finds the sum of elements in a queue, but also finishes with the queue in the same state it started in."
   ]
  },
  {
   "cell_type": "code",
   "execution_count": null,
   "id": "6dbafe92-d773-46c2-981c-e536bd1c7a12",
   "metadata": {},
   "outputs": [],
   "source": [
    "def queue_sum_non_destructive(queue):\n",
    "    # TODO: Your code here\n",
    "\n",
    "test = Queue()\n",
    "test.enq(2); test.enq(5); test.enq(3); test.enq(7); test.enq(6); test.enq(9); test.enq(1)\n",
    "print(test)\n",
    "print(queue_sum_non_destructive(test))   # Expected output: 33\n",
    "print(test)     # Expected output: [2, 5, 3, 7, 6, 9, 1]"
   ]
  },
  {
   "cell_type": "code",
   "execution_count": null,
   "id": "f2af5a82-5c94-428f-b796-5191f6fee1a6",
   "metadata": {},
   "outputs": [],
   "source": [
    "# Randomized tests\n",
    "for i in range(10):\n",
    "    test = Queue()\n",
    "    length = random.randint(10, 100)\n",
    "    test._queue = [random.randint(0, 5) for i in range(length)]\n",
    "    lst = test._queue.copy()\n",
    "    sum1 = sum(test._queue)\n",
    "    sum2 = queue_sum_non_destructive(test)\n",
    "    assert sum1 == sum2, f\"Expected {sum1}, got {sum2}\"\n",
    "    assert lst == test._queue, \"The queue was modified by queue_sum_non_destructive\"\n",
    "print(\"It works!\")"
   ]
  },
  {
   "cell_type": "markdown",
   "id": "91780c80-c7de-4054-87e2-750b4d3cc1ac",
   "metadata": {
    "tags": []
   },
   "source": [
    "### Taxi Management\n",
    "\n",
    "Suppose you are managing taxis at an airport. Passangers and drivers arrive over time, and your goal is to ensure that whenever both a passanger and a driver are present, they are matched. However, you also need to ensure that all passengers and drivers are matched in the order they arrived (for example, if passenger An arrives before passenger Hector, then An should be matched with a driver before Hector). Fill in the `simulate_taxi` function below to solve this problem. This function takes a list of arrivals (including both the drivers and passengers). As soon as both a passenger and a driver are present, your code should print `Depart: <passenger-name> and <driver-name>`"
   ]
  },
  {
   "cell_type": "code",
   "execution_count": null,
   "id": "fb64a6b9-df11-44c6-a256-6af25b08e41d",
   "metadata": {},
   "outputs": [],
   "source": [
    "def simulate_taxi(arrivals):\n",
    "    passengers = Queue()\n",
    "    drivers = Queue()\n",
    "    for (role, name) in arrivals:\n",
    "        print(\"Arrive:\", name, \"(\", 'passenger' if role == 'P' else 'driver', \")\")\n",
    "        # If role == 'P' then this person is a passenger, otherwise they are a driver\n",
    "\n",
    "        # TODO: Your code here. As soon as both a driver and a passenger are\n",
    "        # present, print \"Depart: <passenger-name> and <driver-name>\n",
    "        \n",
    "arrivals = [('P', 'An'), ('P', 'Hector'), ('D', 'Katherine'), ('D', 'Marian'), ('D', 'Mark'), ('D', 'Raj'), ('P', 'Roy'), ('D', 'Sanghamitra'), ('P', 'Sophie'), ('P', 'Xia')]\n",
    "simulate_taxi(arrivals)"
   ]
  },
  {
   "cell_type": "markdown",
   "id": "54f13cc4-5a27-4395-b17e-e13b4c8cb95a",
   "metadata": {},
   "source": [
    "Expected output:\n",
    "\n",
    "    Arrive: An ( passenger )\n",
    "    Arrive: Hector ( passenger )\n",
    "    Arrive: Katherine ( driver )\n",
    "    Depart: An and Katherine\n",
    "    Arrive: Marian ( driver )\n",
    "    Depart: Hector and Marian\n",
    "    Arrive: Mark ( driver )\n",
    "    Arrive: Raj ( driver )\n",
    "    Arrive: Roy ( passenger )\n",
    "    Depart: Roy and Mark\n",
    "    Arrive: Sanghamitra ( driver )\n",
    "    Arrive: Sophie ( passenger )\n",
    "    Depart: Sophie and Raj\n",
    "    Arrive: Xia ( passenger )\n",
    "    Depart: Xia and Sanghamitra"
   ]
  },
  {
   "cell_type": "code",
   "execution_count": null,
   "id": "8abca77f-2c26-4fef-9d4b-7985d8cb8be8",
   "metadata": {},
   "outputs": [],
   "source": [
    "# Randomized tests\n",
    "# IO capture from https://stackoverflow.com/questions/16571150/how-to-capture-stdout-output-from-a-python-function-call\n",
    "class Capturing(list):\n",
    "    def __enter__(self):\n",
    "        self._stdout = sys.stdout\n",
    "        sys.stdout = self._stringio = StringIO()\n",
    "        return self\n",
    "    def __exit__(self, *args):\n",
    "        self.extend(self._stringio.getvalue().splitlines())\n",
    "        del self._stringio\n",
    "        sys.stdout = self._stdout\n",
    "        \n",
    "for i in range(10):\n",
    "    num_drivers = random.randint(4, 15)\n",
    "    arrivals = [('P', 'passenger' + str(i)) for i in range(num_drivers)] + [('D', 'driver' + str(i)) for i in range(num_drivers)]\n",
    "    random.shuffle(arrivals)\n",
    "    passengers = filter(lambda x: x[0] == 'P', arrivals)\n",
    "    drivers = filter(lambda x: x[0] == 'D', arrivals)\n",
    "    expected_order = list(zip(map(lambda x: x[1], passengers), map(lambda x: x[1], drivers)))\n",
    "    with Capturing() as output:\n",
    "        simulate_taxi(arrivals)\n",
    "    ind = 0\n",
    "    aind = 0\n",
    "    expect_arrival = True\n",
    "    np = 0\n",
    "    nd = 0\n",
    "    for line in output:\n",
    "        if expect_arrival:\n",
    "            assert 'Arrive' in line, \"Expected an arrival, saw a departure\"\n",
    "            (t, n) = arrivals[aind]\n",
    "            if t == 'P':\n",
    "                np += 1\n",
    "            else:\n",
    "                nd += 1\n",
    "            if np > 0 and nd > 0:\n",
    "                expect_arrival = False\n",
    "            aind += 1\n",
    "        else:\n",
    "            assert 'Depart' in line, \"Expected a departure, saw an arrival\"\n",
    "            dind = line.index('driver')\n",
    "            dend = line.find(' ', dind)\n",
    "            dend = None if dend == -1 else dend\n",
    "            driver = line[dind:dend]\n",
    "            pind = line.index('passenger')\n",
    "            pend = line.find(' ', pind)\n",
    "            pend = None if pend == -1 else pend\n",
    "            passenger = line[pind:pend]\n",
    "            assert driver == expected_order[ind][1], f\"Expected {expected_order[ind][1]} but got {driver}\"\n",
    "            assert passenger == expected_order[ind][0], f\"Expected {expected_order[ind][0]} but got {passenger}\"\n",
    "            ind += 1\n",
    "            np -= 1\n",
    "            nd -= 1\n",
    "            if np <= 0 or nd <= 0:\n",
    "                expect_arrival = True\n",
    "print(\"It works!\")"
   ]
  },
  {
   "cell_type": "markdown",
   "id": "4aa5f57b-62df-450c-870f-a0a69a93038a",
   "metadata": {
    "tags": []
   },
   "source": [
    "### TSA\n",
    "\n",
    "In this exercise, we will simulate a security line at an airport. All passengers enter one line which is served by `num_agents` TSA agents. The agents are numbered zero to `num_agents-1`. Our goal is to keep track of which passengers see which agent. If more than one agent is available, passengers will choose the lowest-numbered agent. Initially, all agents are available (so, the first passenger will go to agent zero). Your goal is to complete the `simulate_tsa` function, which takes a number of agents and a list of events. Each event is a tuple `(event_type, name, agent)` where:\n",
    "\n",
    "* `event_type == 'new-passenger'` indicates that a new passenger has joined the line. In this case, the `name` field will be the name of that passenger and the `agent` field is unused.\n",
    "* `event_type == 'agent-free'` indicates that one of the agents has become available. In this case the `name` field is unused and the `agent` field is an integer between zero and `num_agent-1` indicating which agent has become free.\n",
    "\n",
    "Your code is responsible for tracking which agents are available, as well as which passengers were seen by which agent. The `busy` variable is a list of booleans where `busy[i]` is true whenever agent `i` is currently seeing a passenger. the `seen` variable is a list of sets where `seen[i]` contains the names of each passenger seen by agent `i`. For example, if a passenger named \"Akesh\" sees agent number 2, then \"Akesh\" should appear in `seen[2]` when the simulation is over. All of the agents are initially available."
   ]
  },
  {
   "cell_type": "code",
   "execution_count": null,
   "id": "adbc5916-a522-459c-8c13-a4f6baa980b6",
   "metadata": {},
   "outputs": [],
   "source": [
    "# num_agents is the number of TSA agents. Don't worry about seed, it has to do\n",
    "# with the random nature of the simulation.\n",
    "def simulate_tsa(num_agents, events):\n",
    "    passengers = Queue()\n",
    "    seen = []   # seen[i] is the set of passengers seen by agent i\n",
    "    busy = []   # busy[i] is True when agent i is currently seeing a passenger\n",
    "    for i in range(num_agents):\n",
    "        seen.append(set())   # Initialize all sets as empty sets\n",
    "        busy.append(False)   # Each agent is initially available\n",
    "        \n",
    "    # NOTE: Use seen[i].add(name) to add `name` to the set `seen[i]`\n",
    "    \n",
    "    for (event_type, name, agent) in events:\n",
    "        # TODO: Your code here\n",
    "                \n",
    "    return seen\n",
    "\n",
    "ret = simulate_tsa(\n",
    "    3, [('new-passenger', 'A', None), ('new-passenger', 'B', None),\n",
    "        ('new-passenger', 'C', None), ('new-passenger', 'D', None),\n",
    "        ('new-passenger', 'E', None), ('new-passenger', 'F', None),\n",
    "        ('new-passenger', 'G', None), ('agent-free', None, 2),\n",
    "        ('agent-free', None, 1),      ('new-passenger', 'H', None),\n",
    "        ('new-passenger', 'I', None), ('new-passenger', 'J', None),\n",
    "        ('new-passenger', 'K', None), ('new-passenger', 'L', None),\n",
    "        ('new-passenger', 'M', None), ('new-passenger', 'N', None),\n",
    "        ('new-passenger', 'O', None), ('new-passenger', 'P', None),\n",
    "        ('agent-free', None, 1),      ('new-passenger', 'Q', None),\n",
    "        ('agent-free', None, 1),      ('agent-free', None, 2),\n",
    "        ('agent-free', None, 0),      ('agent-free', None, 2),\n",
    "        ('agent-free', None, 0),      ('agent-free', None, 0),\n",
    "        ('agent-free', None, 0),      ('agent-free', None, 0),\n",
    "        ('agent-free', None, 0),      ('agent-free', None, 1),\n",
    "        ('agent-free', None, 0),      ('agent-free', None, 0)])\n",
    "\n",
    "print(ret)\n",
    "\n",
    "# Expected output:\n",
    "# [{'L', 'N', 'Q', 'M', 'O', 'A', 'I', 'K'},\n",
    "#  {'B', 'P', 'F', 'G', 'E'},\n",
    "#  {'J', 'D', 'H', 'C'}]\n",
    "\n",
    "# NOTE: The brackets denote unordered sets, so the order of the letters within\n",
    "# each set of brackets may be different."
   ]
  },
  {
   "cell_type": "code",
   "execution_count": null,
   "id": "d1a0bf4a-c818-4631-90c0-ff8facb04945",
   "metadata": {},
   "outputs": [],
   "source": [
    "# TODO: Randomized tests\n",
    "for i in range(10):\n",
    "    num_agents = random.randint(2, 5)\n",
    "    num_passengers = random.randint(10, 100)\n",
    "    p = 0\n",
    "    events = []\n",
    "    expected = []\n",
    "    busy = []\n",
    "    next_p = None\n",
    "    for i in range(num_agents):\n",
    "        expected.append(set())\n",
    "        busy.append(False)\n",
    "    while p < num_passengers:\n",
    "        r = random.random()\n",
    "        if r < 0.75 * p / num_passengers:\n",
    "            agent = random.randint(0, num_agents - 1)\n",
    "            events.append(('agent-free', None, agent))\n",
    "            busy[agent] = False\n",
    "        else:\n",
    "            events.append(('new-passenger', f\"passenger{p}\", None))\n",
    "            if next_p is None:\n",
    "                next_p = p\n",
    "            p += 1\n",
    "        for i in range(num_agents):\n",
    "            if not busy[i]:\n",
    "                if next_p is None:\n",
    "                    break\n",
    "                busy[i] = True\n",
    "                expected[i].add(f\"passenger{next_p}\")\n",
    "                if next_p < p - 1:\n",
    "                    next_p += 1\n",
    "                else:\n",
    "                    next_p = None\n",
    "    \n",
    "    for i in range(num_passengers):\n",
    "        agent = random.randint(0, num_agents - 1)\n",
    "        events.append(('agent-free', None, agent))\n",
    "        busy[agent] = False\n",
    "        for j in range(num_agents):\n",
    "            if not busy[j]:\n",
    "                if next_p is None:\n",
    "                    break\n",
    "                busy[j] = True\n",
    "                expected[j].add(f\"passenger{next_p}\")\n",
    "                next_p += 1\n",
    "        if next_p is None or next_p >= num_passengers:\n",
    "            break\n",
    "    \n",
    "    ret = simulate_tsa(num_agents, events)\n",
    "    assert ret == expected, \"Incorrect output from simulate_tsa\"\n",
    "\n",
    "print(\"It works!\")"
   ]
  },
  {
   "cell_type": "code",
   "execution_count": null,
   "id": "cab5b097-6bcf-4949-82ec-9961ced6f7d8",
   "metadata": {},
   "outputs": [],
   "source": [
    "queues = []\n",
    "for i in range(4):\n",
    "    queues.append(Queue())\n",
    "times = [0] * 4\n",
    "\n",
    "# This function is called every time a new car arrives at the intersection. The\n",
    "# lane argument is an integer 0, 1, 2, or 3 specifying which direction the car\n",
    "# is traveling. The time is a float specifying the time the car arrived.\n",
    "def add_car(lane, time, name):\n",
    "    if queues[lane].is_empty():\n",
    "        times[lane] = time\n",
    "    queues[lane].enq(name)\n",
    "    \n",
    "# Each time this function is called, return the two values:\n",
    "#   an integer 0, 1, 2, or 3 (the direciton of the next car to go) and\n",
    "#   the name of that car.\n",
    "# You may assume that whenever this function is called the intersection is\n",
    "# clear (i.e., you don't need to keep track of when the last car entered the\n",
    "# intersection). You may also assume that at least one car is waiting at the\n",
    "# intersection whenever this function is called.\n",
    "def release_car(time):\n",
    "    min_time = 1e10\n",
    "    min_lane = 0\n",
    "    for i in range(4):\n",
    "        if times[i] < min_time and not queues[i].is_empty():\n",
    "            min_time = times[i]\n",
    "            min_lane = i\n",
    "    name = queues[i].deq()\n",
    "    times[i] = time\n",
    "    return i, name\n",
    "\n",
    "# TODO: Figure out how to visualize"
   ]
  },
  {
   "cell_type": "code",
   "execution_count": null,
   "id": "31e75736-5e98-4d43-a96d-82152833b144",
   "metadata": {},
   "outputs": [],
   "source": [
    "# TODO: Randomized tests"
   ]
  },
  {
   "cell_type": "markdown",
   "id": "aa3895cf-2088-41c4-9bc8-8d80626cfea8",
   "metadata": {},
   "source": [
    "### Queue from Stacks\n",
    "\n",
    "Below is an implementation of a stack in Python. Implement a queue using two stacks. (Don't worry about efficiency&mdash;this is just an exercise, in reality we would not implement queues this way.)"
   ]
  },
  {
   "cell_type": "code",
   "execution_count": null,
   "id": "7c72f916-da47-4810-9c4a-bfebe26161d1",
   "metadata": {},
   "outputs": [],
   "source": [
    "class Stack(object):\n",
    "    \n",
    "    def __init__(self):\n",
    "        self._stack = []\n",
    "        \n",
    "    def push(self, x):\n",
    "        self._stack.append(x)\n",
    "        \n",
    "    def pop(self):\n",
    "        return self._stack.pop()\n",
    "    \n",
    "    def is_empty(self):\n",
    "        return len(self._stack) == 0\n",
    "\n",
    "\n",
    "class StackQueue(object):\n",
    "    \n",
    "    def __init__(self):\n",
    "        self.stack1 = Stack()\n",
    "        self.stack2 = Stack()\n",
    "        \n",
    "    def enq(self, x):\n",
    "        # TODO: Your code here.\n",
    "    \n",
    "    def deq(self):\n",
    "        # TODO: Your code here.\n",
    "    \n",
    "    def is_empty(self):\n",
    "        # TODO: Your code here.\n",
    "    \n",
    "test = StackQueue()\n",
    "test.enq(1)\n",
    "test.enq(2)\n",
    "x = test.deq()\n",
    "print(x)   # Expected output: 1\n",
    "test.enq(3)\n",
    "x = test.deq()\n",
    "print(x)   # Expected output: 2\n",
    "print(test.is_empty())   # Expected output: False\n",
    "x = test.deq()\n",
    "print(x)   # Expected output: 3\n",
    "print(test.is_empty())   # Expected output: True"
   ]
  },
  {
   "cell_type": "code",
   "execution_count": null,
   "id": "139928f1-7a15-4205-af6c-5b92be166192",
   "metadata": {},
   "outputs": [],
   "source": [
    "# Randomized tests\n",
    "test = StackQueue()\n",
    "expected = Queue()\n",
    "for i in range(100):\n",
    "    r = random.randint(0, 2)\n",
    "    if r == 0:\n",
    "        v = random.randint(0, 100)\n",
    "        test.enq(v)\n",
    "        expected.enq(v)\n",
    "    elif r == 1:\n",
    "        if test.is_empty():\n",
    "            assert expected.is_empty(), \"StackQueue is empty but Queue is not\"\n",
    "            continue\n",
    "        assert not expected.is_empty(), \"Queue is empty but StackQueue is not\"\n",
    "        v1 = test.deq()\n",
    "        v2 = expected.deq()\n",
    "        assert v1 == v2, \"Queue and StackQueue have different values\"\n",
    "    else:\n",
    "        assert (test.is_empty() and expected.is_empty()) or \\\n",
    "               (not test.is_empty() and not expected.is_empty()), \\\n",
    "               \"Only one of Queue or StackQueue is empty\"\n",
    "        \n",
    "print(\"It works!\")"
   ]
  },
  {
   "cell_type": "code",
   "execution_count": null,
   "id": "910078a1-e2fa-43a3-b5bf-b37541ece2bd",
   "metadata": {},
   "outputs": [],
   "source": []
  }
 ],
 "metadata": {
  "kernelspec": {
   "display_name": "Python 3 (ipykernel)",
   "language": "python",
   "name": "python3"
  },
  "language_info": {
   "codemirror_mode": {
    "name": "ipython",
    "version": 3
   },
   "file_extension": ".py",
   "mimetype": "text/x-python",
   "name": "python",
   "nbconvert_exporter": "python",
   "pygments_lexer": "ipython3",
   "version": "3.8.0"
  }
 },
 "nbformat": 4,
 "nbformat_minor": 5
}
